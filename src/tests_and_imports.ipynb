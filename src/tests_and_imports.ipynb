{
 "cells": [
  {
   "cell_type": "code",
   "execution_count": 1,
   "metadata": {},
   "outputs": [],
   "source": [
    "# TODO: clean up the game (so don't need to copy paste)\n",
    "\n",
    "# TODO: playable with RL\n",
    "    # actions: steer (-1, 0, 1), accel, brake, boost\n",
    "    # rewards + end at 3 lap\n",
    "    # TODO: CNN structure + other info (check with stable baselines maybe)\n",
    "    # TODO: first reinforcement learning framework :)\n",
    "\n",
    "# TODO: save personal gameplay\n",
    "    # press anything to start\n",
    "    # reset if R pressed"
   ]
  },
  {
   "cell_type": "code",
   "execution_count": 1,
   "metadata": {},
   "outputs": [
    {
     "name": "stdout",
     "output_type": "stream",
     "text": [
      "pygame 2.6.1 (SDL 2.28.4, Python 3.10.8)\n",
      "Hello from the pygame community. https://www.pygame.org/contribute.html\n"
     ]
    }
   ],
   "source": [
    "import pygame\n",
    "import numpy as np"
   ]
  },
  {
   "cell_type": "code",
   "execution_count": 2,
   "metadata": {},
   "outputs": [],
   "source": [
    "from car_physics import Car\n",
    "from checkpoint import generateCheckpoints\n",
    "from utils import get_rl_state"
   ]
  },
  {
   "cell_type": "code",
   "execution_count": 3,
   "metadata": {},
   "outputs": [],
   "source": [
    "import cv2\n",
    "\n",
    "def debugMask(mask):\n",
    "    resized = mask.scale((4, 4))\n",
    "    width, height = resized.get_size()\n",
    "    result = np.zeros((width, height))\n",
    "    for x in range(width):\n",
    "        for y in range(height):\n",
    "            result[x,y] = mask.get_at((x,y))\n",
    "    return result"
   ]
  },
  {
   "cell_type": "code",
   "execution_count": 4,
   "metadata": {},
   "outputs": [],
   "source": [
    "from racing_game import Game\n",
    "from config import *\n",
    "game = Game()\n",
    "game.reset()"
   ]
  },
  {
   "cell_type": "code",
   "execution_count": 5,
   "metadata": {},
   "outputs": [
    {
     "name": "stdout",
     "output_type": "stream",
     "text": [
      "[0 1 0 1]\n",
      "2\n"
     ]
    }
   ],
   "source": [
    "def test(a,b,c,d):\n",
    "    print(a+b+c+d)\n",
    "\n",
    "from gymnasium import spaces\n",
    "e = spaces.MultiDiscrete([3,2,2,2]).sample()\n",
    "print(e)\n",
    "test(*e)"
   ]
  },
  {
   "cell_type": "code",
   "execution_count": 6,
   "metadata": {},
   "outputs": [],
   "source": [
    "isAccelerating = False\n",
    "isBreaking = False\n",
    "steerDirection = 1\n",
    "tryBoosting = False\n",
    "\n",
    "score = 0 # curr checkpoint\n",
    "timer = 0\n",
    "\n",
    "gameStarted = False # press to start"
   ]
  },
  {
   "cell_type": "code",
   "execution_count": 7,
   "metadata": {},
   "outputs": [
    {
     "name": "stdout",
     "output_type": "stream",
     "text": [
      "Mouse clicked at: (497, 450)\n",
      "Mouse clicked at: (497, 450)\n"
     ]
    },
    {
     "ename": "SystemExit",
     "evalue": "",
     "output_type": "error",
     "traceback": [
      "An exception has occurred, use %tb to see the full traceback.\n",
      "\u001b[1;31mSystemExit\u001b[0m\n"
     ]
    },
    {
     "name": "stderr",
     "output_type": "stream",
     "text": [
      "d:\\cours\\ENSTA\\P2\\RL\\rl_env\\lib\\site-packages\\IPython\\core\\interactiveshell.py:3585: UserWarning: To exit: use 'exit', 'quit', or Ctrl-D.\n",
      "  warn(\"To exit: use 'exit', 'quit', or Ctrl-D.\", stacklevel=1)\n"
     ]
    }
   ],
   "source": [
    "while True:\n",
    "    if not gameStarted:\n",
    "        if pygame.event.peek(pygame.KEYDOWN):\n",
    "            gameStarted = True\n",
    "    if not gameStarted:\n",
    "        game.display()\n",
    "        continue\n",
    "    # Process player inputs.\n",
    "    tryBoosting = False\n",
    "    for event in pygame.event.get():\n",
    "        if event.type == pygame.QUIT:\n",
    "            pygame.quit()\n",
    "            raise SystemExit\n",
    "        if event.type == pygame.MOUSEBUTTONDOWN:\n",
    "            # Get mouse position\n",
    "            mouse_pos = pygame.mouse.get_pos()\n",
    "            print(f\"Mouse clicked at: {mouse_pos}\")\n",
    "        if event.type == pygame.KEYDOWN:\n",
    "            if event.key == pygame.K_LEFT: \n",
    "                steerDirection += 1\n",
    "            if event.key == pygame.K_RIGHT:\n",
    "                steerDirection -= 1\n",
    "            if event.key == pygame.K_UP:\n",
    "                isAccelerating = True\n",
    "            if event.key == pygame.K_DOWN:\n",
    "                isBreaking = True\n",
    "            if event.key == pygame.K_SPACE:\n",
    "                tryBoosting = True\n",
    "            if event.key == pygame.K_PLUS:\n",
    "                game.car.BASE_ACCEL += 0.01\n",
    "                print(game.car.BASE_ACCEL)\n",
    "            if event.key == pygame.K_MINUS:\n",
    "                game.car.BASE_ACCEL -= 0.01\n",
    "                print(game.car.BASE_ACCEL)\n",
    "        if event.type == pygame.KEYUP:\n",
    "            if event.key == pygame.K_LEFT: \n",
    "                steerDirection -= 1\n",
    "            if event.key == pygame.K_RIGHT:\n",
    "                steerDirection += 1\n",
    "            if event.key == pygame.K_UP:\n",
    "                isAccelerating = False\n",
    "            if event.key == pygame.K_DOWN:\n",
    "                isBreaking = False\n",
    "    game.inputProcessing(steerDirection, isAccelerating, isBreaking, tryBoosting)\n",
    "    game.display(DEBUG=True)\n",
    "    game.timeUpdate(framerate=FPS_RATE)"
   ]
  },
  {
   "cell_type": "code",
   "execution_count": null,
   "metadata": {},
   "outputs": [],
   "source": [
    "pygame.quit()"
   ]
  }
 ],
 "metadata": {
  "kernelspec": {
   "display_name": "rl_env",
   "language": "python",
   "name": "python3"
  },
  "language_info": {
   "codemirror_mode": {
    "name": "ipython",
    "version": 3
   },
   "file_extension": ".py",
   "mimetype": "text/x-python",
   "name": "python",
   "nbconvert_exporter": "python",
   "pygments_lexer": "ipython3",
   "version": "3.10.8"
  }
 },
 "nbformat": 4,
 "nbformat_minor": 2
}
